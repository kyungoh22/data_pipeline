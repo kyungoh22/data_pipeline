{
 "cells": [
  {
   "cell_type": "code",
   "execution_count": 1,
   "metadata": {},
   "outputs": [],
   "source": [
    "import gspread\n",
    "\n",
    "import plotly.express as px\n",
    "import plotly.graph_objects as go\n",
    "\n",
    "import pandas as pd\n",
    "import streamlit as st"
   ]
  },
  {
   "cell_type": "code",
   "execution_count": 2,
   "metadata": {},
   "outputs": [],
   "source": [
    "def read_data():\n",
    "    gc = gspread.service_account(filename=\"service_account.json\")\n",
    "    sh = gc.open(\"free-data-pipeline\").get_worksheet(0) # index 0 = sheet1, index 1 = sheet2, etc.\n",
    "\n",
    "    row_1 = sh.row_values(1)\n",
    "    row_2 = sh.row_values(2)\n",
    "    print(row_1, row_2)\n",
    "    df = pd.DataFrame({'date': row_1, 'closing_price': row_2})\n",
    "    return df\n",
    "\n",
    "def plot_data():\n",
    "    df = read_data()\n",
    "    df['closing_price'] = df['closing_price'].astype(float)\n",
    "\n",
    "    fig = px.line(data_frame = df, \n",
    "                x = 'date' ,\n",
    "                y = 'closing_price')\n",
    "    st.plotly_chart(fig)"
   ]
  },
  {
   "cell_type": "code",
   "execution_count": null,
   "metadata": {},
   "outputs": [],
   "source": [
    "plot_data()"
   ]
  }
 ],
 "metadata": {
  "kernelspec": {
   "display_name": "Python 3.9.7 ('base')",
   "language": "python",
   "name": "python3"
  },
  "language_info": {
   "codemirror_mode": {
    "name": "ipython",
    "version": 3
   },
   "file_extension": ".py",
   "mimetype": "text/x-python",
   "name": "python",
   "nbconvert_exporter": "python",
   "pygments_lexer": "ipython3",
   "version": "3.9.7"
  },
  "orig_nbformat": 4,
  "vscode": {
   "interpreter": {
    "hash": "40d3a090f54c6569ab1632332b64b2c03c39dcf918b08424e98f38b5ae0af88f"
   }
  }
 },
 "nbformat": 4,
 "nbformat_minor": 2
}
