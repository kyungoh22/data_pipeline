{
 "cells": [
  {
   "cell_type": "code",
   "execution_count": 71,
   "metadata": {},
   "outputs": [],
   "source": [
    "import urllib3\n",
    "import json\n",
    "import os\n",
    "from dotenv import load_dotenv\n",
    "from google.oauth2 import service_account\n",
    "from apiclient import discovery\n",
    "\n",
    "import pandas as pd\n",
    "import streamlit as st\n",
    "import matplotlib.pyplot as plt"
   ]
  },
  {
   "cell_type": "code",
   "execution_count": 72,
   "metadata": {},
   "outputs": [
    {
     "data": {
      "text/plain": [
       "True"
      ]
     },
     "execution_count": 72,
     "metadata": {},
     "output_type": "execute_result"
    }
   ],
   "source": [
    "load_dotenv()"
   ]
  },
  {
   "cell_type": "code",
   "execution_count": 77,
   "metadata": {},
   "outputs": [],
   "source": [
    "def get_data_lambda():\n",
    "    \n",
    "    print (os.environ.get(\"API_KEY\"))\n",
    "    http = urllib3.PoolManager()    # Create PoolManager object\n",
    "    #url = \"https://cloud.iexapis.com/stable/stock/tsla/previous?token=\" + os.environ.get(\"API_KEY\") # Define URL, with token coming from environment variable\n",
    "    url = \"https://sandbox.iexapis.com/stable/stock/TSLA/chart/1m?token=Tpk_181f3c56f73441798055291edda9cc09\"\n",
    "    resp = http.request(\"GET\", url)     # Make GET request and save the response\n",
    "    #print(resp.status)                  # The response object has several attributes.\n",
    "    values = json.loads(resp.data)      # One attribute is the actual data. Load as JSON and save to \"valeus\"\n",
    "    #print(values)\n",
    "    return values"
   ]
  },
  {
   "cell_type": "code",
   "execution_count": 78,
   "metadata": {},
   "outputs": [],
   "source": [
    "SCOPES = ['https://www.googleapis.com/auth/spreadsheets']\n",
    "SAMPLE_SPREADSHEET_ID = '1YBDYsqbOqbs94K1inMrL6ppFcjH-qbtYPE_mCXxCXzA'      # Get this from the url // Refer to google API documentation\n",
    "SAMPLE_RANGE_NAME = 'A1:AA1000'"
   ]
  },
  {
   "cell_type": "code",
   "execution_count": 79,
   "metadata": {},
   "outputs": [],
   "source": [
    "def Export_Data_To_Sheets():\n",
    "\n",
    "    credentials = service_account.Credentials.from_service_account_file(    # These lines will always be the same.\n",
    "        \"service_account.json\", scopes=SCOPES)                              # These lines will always be the same.\n",
    "    service = discovery.build('sheets', 'v4', credentials=credentials)      # These lines will always be the same. \n",
    "\n",
    "    values = get_data_lambda()\n",
    "    all_dates = []\n",
    "    all_close = []\n",
    "    for val in values: \n",
    "        date = val['date']\n",
    "        close = val['close']\n",
    "        all_dates.append(date)\n",
    "        all_close.append(close)\n",
    "    \n",
    "    final_data = {'values':[all_dates,all_close]}               # When exporting, need to pass in a dictionary, where the key is \"values\"\n",
    "                                                                # The value of the key \"values\" is a list of lists\n",
    "                                                                # Each nested list then occupies a row\n",
    "\n",
    "\n",
    "    service.spreadsheets().values().append(                                 # These lines will always be the same.\n",
    "        spreadsheetId=SAMPLE_SPREADSHEET_ID ,\n",
    "        valueInputOption='RAW',\n",
    "        range=SAMPLE_RANGE_NAME,\n",
    "        body=final_data).execute()\n",
    "\n",
    "\n",
    "    print('Sheet successfully Updated')"
   ]
  },
  {
   "cell_type": "code",
   "execution_count": 80,
   "metadata": {},
   "outputs": [
    {
     "name": "stderr",
     "output_type": "stream",
     "text": [
      "2022-07-18 17:34:33.841 file_cache is only supported with oauth2client<4.0.0\n"
     ]
    },
    {
     "name": "stdout",
     "output_type": "stream",
     "text": [
      "pk_3eb01a77e8a247f8bf01a6a297e0cb1e\n",
      "Sheet successfully Updated\n"
     ]
    }
   ],
   "source": [
    "Export_Data_To_Sheets()"
   ]
  },
  {
   "cell_type": "code",
   "execution_count": 12,
   "metadata": {},
   "outputs": [],
   "source": [
    "\"\"\"\n",
    "def Export_Data_To_Sheets():\n",
    "\n",
    "    credentials = service_account.Credentials.from_service_account_file(    # These lines will always be the same.\n",
    "        \"service_account.json\", scopes=SCOPES)                              # These lines will always be the same.\n",
    "    service = discovery.build('sheets', 'v4', credentials=credentials)      # These lines will always be the same. \n",
    "\n",
    "    values = get_data_lambda()\n",
    "    values_list = list(values.values())\n",
    "    final_list = []\n",
    "    final_list.append(values_list)\n",
    "    dict_me = dict(values=final_list)\n",
    "\n",
    "    service.spreadsheets().values().append(                                 # These lines will always be the same.\n",
    "        spreadsheetId=SAMPLE_SPREADSHEET_ID ,\n",
    "        valueInputOption='RAW',\n",
    "        range=SAMPLE_RANGE_NAME,\n",
    "        body=dict_me).execute()\n",
    "\n",
    "    print('Sheet successfully Updated')\n",
    "\n",
    "\"\"\""
   ]
  },
  {
   "cell_type": "code",
   "execution_count": 56,
   "metadata": {},
   "outputs": [],
   "source": [
    "def Read_Data_From_Sheets():\n",
    "\n",
    "    credentials = service_account.Credentials.from_service_account_file( \n",
    "            \"service_account.json\", scopes=SCOPES)                            \n",
    "    service = discovery.build('sheets', 'v4', credentials=credentials)\n",
    "\n",
    "    result = service.spreadsheets().values().get(\n",
    "                spreadsheetId=SAMPLE_SPREADSHEET_ID, range=SAMPLE_RANGE_NAME).execute()\n",
    "\n",
    "    return result"
   ]
  },
  {
   "cell_type": "code",
   "execution_count": 81,
   "metadata": {},
   "outputs": [
    {
     "name": "stderr",
     "output_type": "stream",
     "text": [
      "2022-07-18 17:34:36.860 file_cache is only supported with oauth2client<4.0.0\n"
     ]
    },
    {
     "data": {
      "text/plain": [
       "{'range': 'Sheet1!A1:AA1000',\n",
       " 'majorDimension': 'ROWS',\n",
       " 'values': [['2022-06-21',\n",
       "   '2022-06-22',\n",
       "   '2022-06-23',\n",
       "   '2022-06-24',\n",
       "   '2022-06-27',\n",
       "   '2022-06-28',\n",
       "   '2022-06-29',\n",
       "   '2022-06-30',\n",
       "   '2022-07-01',\n",
       "   '2022-07-05',\n",
       "   '2022-07-06',\n",
       "   '2022-07-07',\n",
       "   '2022-07-08',\n",
       "   '2022-07-11',\n",
       "   '2022-07-12',\n",
       "   '2022-07-13',\n",
       "   '2022-07-14',\n",
       "   '2022-07-15'],\n",
       "  ['725.24',\n",
       "   '726.76',\n",
       "   '717.27',\n",
       "   '754.5',\n",
       "   '745.72',\n",
       "   '722.73',\n",
       "   '703.48',\n",
       "   '702.69',\n",
       "   '701.4',\n",
       "   '728.7',\n",
       "   '700.1',\n",
       "   '761.25',\n",
       "   '772.93',\n",
       "   '734.64',\n",
       "   '720.68',\n",
       "   '732.14',\n",
       "   '746.85',\n",
       "   '749.3']]}"
      ]
     },
     "execution_count": 81,
     "metadata": {},
     "output_type": "execute_result"
    }
   ],
   "source": [
    "result = Read_Data_From_Sheets()\n",
    "result"
   ]
  },
  {
   "cell_type": "code",
   "execution_count": 89,
   "metadata": {},
   "outputs": [
    {
     "name": "stderr",
     "output_type": "stream",
     "text": [
      "2022-07-18 17:37:44.195 file_cache is only supported with oauth2client<4.0.0\n"
     ]
    },
    {
     "data": {
      "text/html": [
       "<div>\n",
       "<style scoped>\n",
       "    .dataframe tbody tr th:only-of-type {\n",
       "        vertical-align: middle;\n",
       "    }\n",
       "\n",
       "    .dataframe tbody tr th {\n",
       "        vertical-align: top;\n",
       "    }\n",
       "\n",
       "    .dataframe thead th {\n",
       "        text-align: right;\n",
       "    }\n",
       "</style>\n",
       "<table border=\"1\" class=\"dataframe\">\n",
       "  <thead>\n",
       "    <tr style=\"text-align: right;\">\n",
       "      <th></th>\n",
       "      <th>date</th>\n",
       "      <th>closing_price</th>\n",
       "    </tr>\n",
       "  </thead>\n",
       "  <tbody>\n",
       "    <tr>\n",
       "      <th>0</th>\n",
       "      <td>2022-06-21</td>\n",
       "      <td>725.24</td>\n",
       "    </tr>\n",
       "    <tr>\n",
       "      <th>1</th>\n",
       "      <td>2022-06-22</td>\n",
       "      <td>726.76</td>\n",
       "    </tr>\n",
       "    <tr>\n",
       "      <th>2</th>\n",
       "      <td>2022-06-23</td>\n",
       "      <td>717.27</td>\n",
       "    </tr>\n",
       "    <tr>\n",
       "      <th>3</th>\n",
       "      <td>2022-06-24</td>\n",
       "      <td>754.50</td>\n",
       "    </tr>\n",
       "    <tr>\n",
       "      <th>4</th>\n",
       "      <td>2022-06-27</td>\n",
       "      <td>745.72</td>\n",
       "    </tr>\n",
       "    <tr>\n",
       "      <th>5</th>\n",
       "      <td>2022-06-28</td>\n",
       "      <td>722.73</td>\n",
       "    </tr>\n",
       "    <tr>\n",
       "      <th>6</th>\n",
       "      <td>2022-06-29</td>\n",
       "      <td>703.48</td>\n",
       "    </tr>\n",
       "    <tr>\n",
       "      <th>7</th>\n",
       "      <td>2022-06-30</td>\n",
       "      <td>702.69</td>\n",
       "    </tr>\n",
       "    <tr>\n",
       "      <th>8</th>\n",
       "      <td>2022-07-01</td>\n",
       "      <td>701.40</td>\n",
       "    </tr>\n",
       "    <tr>\n",
       "      <th>9</th>\n",
       "      <td>2022-07-05</td>\n",
       "      <td>728.70</td>\n",
       "    </tr>\n",
       "    <tr>\n",
       "      <th>10</th>\n",
       "      <td>2022-07-06</td>\n",
       "      <td>700.10</td>\n",
       "    </tr>\n",
       "    <tr>\n",
       "      <th>11</th>\n",
       "      <td>2022-07-07</td>\n",
       "      <td>761.25</td>\n",
       "    </tr>\n",
       "    <tr>\n",
       "      <th>12</th>\n",
       "      <td>2022-07-08</td>\n",
       "      <td>772.93</td>\n",
       "    </tr>\n",
       "    <tr>\n",
       "      <th>13</th>\n",
       "      <td>2022-07-11</td>\n",
       "      <td>734.64</td>\n",
       "    </tr>\n",
       "    <tr>\n",
       "      <th>14</th>\n",
       "      <td>2022-07-12</td>\n",
       "      <td>720.68</td>\n",
       "    </tr>\n",
       "    <tr>\n",
       "      <th>15</th>\n",
       "      <td>2022-07-13</td>\n",
       "      <td>732.14</td>\n",
       "    </tr>\n",
       "    <tr>\n",
       "      <th>16</th>\n",
       "      <td>2022-07-14</td>\n",
       "      <td>746.85</td>\n",
       "    </tr>\n",
       "    <tr>\n",
       "      <th>17</th>\n",
       "      <td>2022-07-15</td>\n",
       "      <td>749.30</td>\n",
       "    </tr>\n",
       "  </tbody>\n",
       "</table>\n",
       "</div>"
      ],
      "text/plain": [
       "          date  closing_price\n",
       "0   2022-06-21         725.24\n",
       "1   2022-06-22         726.76\n",
       "2   2022-06-23         717.27\n",
       "3   2022-06-24         754.50\n",
       "4   2022-06-27         745.72\n",
       "5   2022-06-28         722.73\n",
       "6   2022-06-29         703.48\n",
       "7   2022-06-30         702.69\n",
       "8   2022-07-01         701.40\n",
       "9   2022-07-05         728.70\n",
       "10  2022-07-06         700.10\n",
       "11  2022-07-07         761.25\n",
       "12  2022-07-08         772.93\n",
       "13  2022-07-11         734.64\n",
       "14  2022-07-12         720.68\n",
       "15  2022-07-13         732.14\n",
       "16  2022-07-14         746.85\n",
       "17  2022-07-15         749.30"
      ]
     },
     "execution_count": 89,
     "metadata": {},
     "output_type": "execute_result"
    }
   ],
   "source": [
    "result = Read_Data_From_Sheets()['values']\n",
    "dates = result[0]\n",
    "closing_prices = result[1]\n",
    "df = pd.DataFrame({'date': dates, 'closing_price':closing_prices})\n",
    "df['closing_price'] = df['closing_price'].astype(float)\n",
    "df\n"
   ]
  },
  {
   "cell_type": "code",
   "execution_count": 91,
   "metadata": {},
   "outputs": [
    {
     "name": "stderr",
     "output_type": "stream",
     "text": [
      "2022-07-18 17:38:03.503 Using categorical units to plot a list of strings that are all parsable as floats or dates. If these strings should be plotted as numbers, cast to the appropriate data type before plotting.\n",
      "2022-07-18 17:38:03.505 Using categorical units to plot a list of strings that are all parsable as floats or dates. If these strings should be plotted as numbers, cast to the appropriate data type before plotting.\n"
     ]
    },
    {
     "data": {
      "image/png": "[encoded data removed]",
      "text/plain": [
       "<Figure size 432x288 with 1 Axes>"
      ]
     },
     "metadata": {
      "needs_background": "light"
     },
     "output_type": "display_data"
    }
   ],
   "source": [
    "fig, ax = plt.subplots()\n",
    "ax.plot(df['date'], df['closing_price'])\n",
    "ax.set_xticks(ticks = list(range(len(df['date']))))\n",
    "ax.set_xticklabels(labels = df['date'], rotation = 90)\n",
    "plt.show()"
   ]
  },
  {
   "cell_type": "code",
   "execution_count": 93,
   "metadata": {},
   "outputs": [
    {
     "data": {
      "text/plain": [
       "DeltaGenerator(_root_container=0, _provided_cursor=None, _parent=None, _block_type=None, _form_data=None)"
      ]
     },
     "execution_count": 93,
     "metadata": {},
     "output_type": "execute_result"
    }
   ],
   "source": [
    "st.pyplot(fig)"
   ]
  },
  {
   "cell_type": "code",
   "execution_count": null,
   "metadata": {},
   "outputs": [],
   "source": []
  }
 ],
 "metadata": {
  "kernelspec": {
   "display_name": "Python 3.10.5 ('data-pipeline')",
   "language": "python",
   "name": "python3"
  },
  "language_info": {
   "codemirror_mode": {
    "name": "ipython",
    "version": 3
   },
   "file_extension": ".py",
   "mimetype": "text/x-python",
   "name": "python",
   "nbconvert_exporter": "python",
   "pygments_lexer": "ipython3",
   "version": "3.10.5"
  },
  "orig_nbformat": 4,
  "vscode": {
   "interpreter": {
    "hash": "7cb860f470c576cf9dcf6cc11ccc8db6f8c4ff3073de0d01814983862907b9b7"
   }
  }
 },
 "nbformat": 4,
 "nbformat_minor": 2
}
